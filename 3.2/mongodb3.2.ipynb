{
 "cells": [
  {
   "cell_type": "markdown",
   "metadata": {},
   "source": [
    "# MongoDB 3.2 New Feature Review\n",
    "\n",
    "This notebook collects a set of examples that focus on MongoDB 3.2 release new features and how they can be used in a python context.\n",
    "Although the majority of the examples are python based (since we are using [ipython notebooks](http://ipython.org/notebook.html)) they are applicable to any other offical driver supported language within the 3.2 release."
   ]
  },
  {
   "cell_type": "markdown",
   "metadata": {},
   "source": [
    "## Basic Connection to MongoDB 3.2 instance\n",
    "Make sure you are running one of these in your host machine. \n",
    "It's quite easy, you just need to follow the [installation tutorial](https://docs.mongodb.org/master/installation/#)"
   ]
  },
  {
   "cell_type": "code",
   "execution_count": 2,
   "metadata": {
    "collapsed": false
   },
   "outputs": [
    {
     "data": {
      "text/plain": [
       "u'3.2.0-rc2'"
      ]
     },
     "execution_count": 2,
     "metadata": {},
     "output_type": "execute_result"
    }
   ],
   "source": [
    "from pymongo import MongoClient\n",
    "\n",
    "host = \"mongodb://localhost:27017\"\n",
    "\n",
    "mc = MongoClient(host)\n",
    "\n",
    "#check the server version: >3.2.0-rc0\n",
    "mc.server_info()['version']"
   ]
  },
  {
   "cell_type": "markdown",
   "metadata": {},
   "source": [
    "## WiredTiger default storage engine\n",
    "3.2 introduces WiredTiger as default storage engine. So make sure you understand the implications if you are accostumed to use the default storage engines and want to migrate to 3.2 version. \n",
    "Please follow this [upgrade tutorial](https://docs.mongodb.org/manual/release-notes/3.0-upgrade/#change-storage-engine-to-wiredtiger)"
   ]
  },
  {
   "cell_type": "code",
   "execution_count": 3,
   "metadata": {
    "collapsed": false
   },
   "outputs": [
    {
     "data": {
      "text/plain": [
       "{u'name': u'wiredTiger', u'supportsCommittedReads': True}"
      ]
     },
     "execution_count": 3,
     "metadata": {},
     "output_type": "execute_result"
    }
   ],
   "source": [
    "#let's connect to `admin` db and run serverStatus command \n",
    "mc.admin.command('serverStatus')['storageEngine']"
   ]
  },
  {
   "cell_type": "markdown",
   "metadata": {},
   "source": [
    "## [Partial Indexes](https://docs.mongodb.org/manual/release-notes/3.2/#partial-indexes)\n",
    "Partial indexes allow the user to establish _ranges_, _types_ and _existance_ conditions to fields inorder to determine if those documents can be indexed or not. \n",
    "The typical example around _ranges_ is that when we only require documents to be indexed if the field on which we create the index is interessing only if it above a certain value. `Ex: only index if quantity is above X`\n",
    "```javascript\n",
    "{_id: 1, quantity: 10}, {_id: 2, quantity: 11}, {_id:3, quantity: 4}\n",
    "```\n",
    "If know that we our queries are only interested on documents that have `quantity` greater than 9 we can use a partial index to reflect that and make our indexes more efficient _(smaller = better)_\n"
   ]
  },
  {
   "cell_type": "code",
   "execution_count": 6,
   "metadata": {
    "collapsed": false
   },
   "outputs": [
    {
     "data": {
      "text/plain": [
       "210"
      ]
     },
     "execution_count": 6,
     "metadata": {},
     "output_type": "execute_result"
    }
   ],
   "source": [
    "import pymongo\n",
    "coll = mc.notebook.partialindexcollection\n",
    "docs = []\n",
    "for i in xrange(30): \n",
    "    docs.append( {'quantity': i  })\n",
    "\n",
    "coll.insert_many(docs)\n",
    "coll.count()"
   ]
  },
  {
   "cell_type": "code",
   "execution_count": 7,
   "metadata": {
    "collapsed": false
   },
   "outputs": [
    {
     "data": {
      "text/plain": [
       "u'quantity_1'"
      ]
     },
     "execution_count": 7,
     "metadata": {},
     "output_type": "execute_result"
    }
   ],
   "source": [
    "partialFilterExpression = { 'quantity':{'$gt': 9} }\n",
    "\n",
    "coll.create_index([(\"quantity\", pymongo.ASCENDING)], partialFilterExpression=partialFilterExpression )"
   ]
  },
  {
   "cell_type": "code",
   "execution_count": 12,
   "metadata": {
    "collapsed": false
   },
   "outputs": [
    {
     "name": "stdout",
     "output_type": "stream",
     "text": [
      "covered\n",
      "{\n",
      "    \"queryPlanner\": {\n",
      "        \"parsedQuery\": {\n",
      "            \"quantity\": {\n",
      "                \"$gt\": 10\n",
      "            }\n",
      "        },\n",
      "        \"rejectedPlans\": [],\n",
      "        \"namespace\": \"notebook.partialindexcollection\",\n",
      "        \"winningPlan\": {\n",
      "            \"inputStage\": {\n",
      "                \"direction\": \"forward\",\n",
      "                \"indexName\": \"quantity_1\",\n",
      "                \"isUnique\": false,\n",
      "                \"isSparse\": false,\n",
      "                \"isPartial\": true,\n",
      "                \"indexBounds\": {\n",
      "                    \"quantity\": [\n",
      "                        \"(10, inf.0]\"\n",
      "                    ]\n",
      "                },\n",
      "                \"isMultiKey\": false,\n",
      "                \"stage\": \"IXSCAN\",\n",
      "                \"indexVersion\": 1,\n",
      "                \"keyPattern\": {\n",
      "                    \"quantity\": 1\n",
      "                }\n",
      "            },\n",
      "            \"stage\": \"FETCH\"\n",
      "        },\n",
      "        \"indexFilterSet\": false,\n",
      "        \"plannerVersion\": 1\n",
      "    },\n",
      "    \"serverInfo\": {\n",
      "        \"host\": \"nair.local\",\n",
      "        \"version\": \"3.2.0-rc2\",\n",
      "        \"port\": 27017,\n",
      "        \"gitVersion\": \"8a3acb42742182c5e314636041c2df368232bbc5\"\n",
      "    },\n",
      "    \"waitedMS\": 0,\n",
      "    \"ok\": 1.0,\n",
      "    \"executionStats\": {\n",
      "        \"executionTimeMillis\": 0,\n",
      "        \"nReturned\": 133,\n",
      "        \"totalKeysExamined\": 133,\n",
      "        \"allPlansExecution\": [],\n",
      "        \"executionSuccess\": true,\n",
      "        \"executionStages\": {\n",
      "            \"needYield\": 0,\n",
      "            \"docsExamined\": 133,\n",
      "            \"saveState\": 1,\n",
      "            \"restoreState\": 1,\n",
      "            \"isEOF\": 1,\n",
      "            \"inputStage\": {\n",
      "                \"saveState\": 1,\n",
      "                \"isEOF\": 1,\n",
      "                \"seenInvalidated\": 0,\n",
      "                \"keysExamined\": 133,\n",
      "                \"nReturned\": 133,\n",
      "                \"invalidates\": 0,\n",
      "                \"keyPattern\": {\n",
      "                    \"quantity\": 1\n",
      "                },\n",
      "                \"isUnique\": false,\n",
      "                \"needTime\": 0,\n",
      "                \"isMultiKey\": false,\n",
      "                \"executionTimeMillisEstimate\": 0,\n",
      "                \"dupsTested\": 0,\n",
      "                \"restoreState\": 1,\n",
      "                \"direction\": \"forward\",\n",
      "                \"indexName\": \"quantity_1\",\n",
      "                \"isSparse\": false,\n",
      "                \"advanced\": 133,\n",
      "                \"stage\": \"IXSCAN\",\n",
      "                \"dupsDropped\": 0,\n",
      "                \"needYield\": 0,\n",
      "                \"isPartial\": true,\n",
      "                \"indexBounds\": {\n",
      "                    \"quantity\": [\n",
      "                        \"(10, inf.0]\"\n",
      "                    ]\n",
      "                },\n",
      "                \"works\": 134,\n",
      "                \"indexVersion\": 1\n",
      "            },\n",
      "            \"nReturned\": 133,\n",
      "            \"needTime\": 0,\n",
      "            \"executionTimeMillisEstimate\": 0,\n",
      "            \"alreadyHasObj\": 0,\n",
      "            \"invalidates\": 0,\n",
      "            \"works\": 134,\n",
      "            \"advanced\": 133,\n",
      "            \"stage\": \"FETCH\"\n",
      "        },\n",
      "        \"totalDocsExamined\": 133\n",
      "    }\n",
      "}\n"
     ]
    }
   ],
   "source": [
    "import simplejson as json\n",
    "#let's run some queries and check if they are using the indexes accordingly \n",
    "partialcovered = {\"quantity\": {\"$gt\": 10}}\n",
    "print \"covered\"\n",
    "print json.dumps(coll.find(partialcovered).explain(), indent=4)"
   ]
  },
  {
   "cell_type": "code",
   "execution_count": 11,
   "metadata": {
    "collapsed": false
   },
   "outputs": [
    {
     "name": "stdout",
     "output_type": "stream",
     "text": [
      "not covered\n",
      "{\n",
      "    \"queryPlanner\": {\n",
      "        \"parsedQuery\": {\n",
      "            \"quantity\": {\n",
      "                \"$gt\": 8\n",
      "            }\n",
      "        },\n",
      "        \"rejectedPlans\": [],\n",
      "        \"namespace\": \"notebook.partialindexcollection\",\n",
      "        \"winningPlan\": {\n",
      "            \"filter\": {\n",
      "                \"quantity\": {\n",
      "                    \"$gt\": 8\n",
      "                }\n",
      "            },\n",
      "            \"direction\": \"forward\",\n",
      "            \"stage\": \"COLLSCAN\"\n",
      "        },\n",
      "        \"indexFilterSet\": false,\n",
      "        \"plannerVersion\": 1\n",
      "    },\n",
      "    \"serverInfo\": {\n",
      "        \"host\": \"nair.local\",\n",
      "        \"version\": \"3.2.0-rc2\",\n",
      "        \"port\": 27017,\n",
      "        \"gitVersion\": \"8a3acb42742182c5e314636041c2df368232bbc5\"\n",
      "    },\n",
      "    \"waitedMS\": 0,\n",
      "    \"ok\": 1.0,\n",
      "    \"executionStats\": {\n",
      "        \"executionTimeMillis\": 0,\n",
      "        \"nReturned\": 147,\n",
      "        \"totalKeysExamined\": 0,\n",
      "        \"allPlansExecution\": [],\n",
      "        \"executionSuccess\": true,\n",
      "        \"executionStages\": {\n",
      "            \"needYield\": 0,\n",
      "            \"direction\": \"forward\",\n",
      "            \"saveState\": 1,\n",
      "            \"restoreState\": 1,\n",
      "            \"isEOF\": 1,\n",
      "            \"docsExamined\": 210,\n",
      "            \"nReturned\": 147,\n",
      "            \"needTime\": 64,\n",
      "            \"filter\": {\n",
      "                \"quantity\": {\n",
      "                    \"$gt\": 8\n",
      "                }\n",
      "            },\n",
      "            \"executionTimeMillisEstimate\": 0,\n",
      "            \"invalidates\": 0,\n",
      "            \"works\": 212,\n",
      "            \"advanced\": 147,\n",
      "            \"stage\": \"COLLSCAN\"\n",
      "        },\n",
      "        \"totalDocsExamined\": 210\n",
      "    }\n",
      "}\n"
     ]
    }
   ],
   "source": [
    "notcovered = {\"quantity\": {\"$gt\": 8}}\n",
    "print \"not covered\"\n",
    "print json.dumps(coll.find(notcovered).explain(), indent=4)"
   ]
  },
  {
   "cell_type": "markdown",
   "metadata": {},
   "source": [
    "## [Document Validation](https://docs.mongodb.org/manual/release-notes/3.2/#document-validation)\n",
    "With 3.2 we are now supporting collection based document validation.\n",
    "This features enables developers to establish rules that validate incoming write operations"
   ]
  },
  {
   "cell_type": "code",
   "execution_count": 51,
   "metadata": {
    "collapsed": false
   },
   "outputs": [
    {
     "name": "stdout",
     "output_type": "stream",
     "text": [
      "565485894cc75f0d2c6e05c9\n"
     ]
    }
   ],
   "source": [
    "#Validate that attribute `name` always exists\n",
    "# > db.createCollection('validateme', { validator: { $and: [ {'name': {$exists:1}}  ]  }  })\n",
    "validator={ \"$and\": [ {'name': {\"$exists\":True}}  ]  } \n",
    "mc.notebook.command(\"collMod\", \"validateme\", validator=validator)\n",
    "\n",
    "validateme = mc.notebook.validateme\n",
    "validDoc = {'name': 'Jose Mourinho', 'nickname': 'Special One'}\n",
    "insertRes = validateme.insert_one( validDoc )\n",
    "\n",
    "print(insertRes.inserted_id)"
   ]
  },
  {
   "cell_type": "code",
   "execution_count": 52,
   "metadata": {
    "collapsed": false
   },
   "outputs": [
    {
     "name": "stdout",
     "output_type": "stream",
     "text": [
      "Document failed validation\n"
     ]
    }
   ],
   "source": [
    "notValidDoc = {\"nickname\": \"Not So Special\"}\n",
    "try:\n",
    "    insertRes = validateme.insert_one(notValidDoc)\n",
    "except Exception, e:\n",
    "    print(e)"
   ]
  },
  {
   "cell_type": "code",
   "execution_count": 53,
   "metadata": {
    "collapsed": false
   },
   "outputs": [
    {
     "name": "stdout",
     "output_type": "stream",
     "text": [
      "5654858f4cc75f0d2c6e05cb\n"
     ]
    }
   ],
   "source": [
    "#validation can be override \n",
    "writeOptions = {\"validatioLevel\" : \"off\"}\n",
    "notValidDoc = {\"nickname\": \"Not So Special\"}\n",
    "insertRes = validateme.insert_one(notValidDoc, writeOptions)\n",
    "\n",
    "print(insertRes.inserted_id)"
   ]
  },
  {
   "cell_type": "code",
   "execution_count": 54,
   "metadata": {
    "collapsed": false
   },
   "outputs": [
    {
     "name": "stdout",
     "output_type": "stream",
     "text": [
      "Document failed validation\n"
     ]
    }
   ],
   "source": [
    "#change the existing validator rules \n",
    "newvalidator = {'$and': [ {\"name\": {\"$exists\": True}}, {\"age\": {\"$gt\": 18, \"$exists\": True}}  ]}\n",
    "mc.notebook.command(\"collMod\", \"validateme\", validator=newvalidator)\n",
    "usted_to_be_valid = {'name': 'Jose Mourinho', 'nickname': 'Special One'}\n",
    "validateme = mc.notebook.validateme\n",
    "try:\n",
    "    result = validateme.insert_one(usted_to_be_valid)\n",
    "except Exception, e:\n",
    "    print(e)"
   ]
  },
  {
   "cell_type": "code",
   "execution_count": 60,
   "metadata": {
    "collapsed": false
   },
   "outputs": [
    {
     "name": "stdout",
     "output_type": "stream",
     "text": [
      "5654858f4cc75f0d2c6e05cb\n"
     ]
    }
   ],
   "source": [
    "# we can also not report back an error but an warning instead - this will be reported on the logs\n",
    "# db.createCollection('validatewarn', { validator: { $and: [ {'name': {$exists:1}}  ]  }, validationAction: 'warn'  })\n",
    "validatewarn = mc.notebook.validatewarn\n",
    "notValidDoc = {\"nickname\": \"Not So Special\"}\n",
    "\n",
    "result = validatewarn.insert_one(notValidDoc)\n",
    "print(insertRes.inserted_id)"
   ]
  },
  {
   "cell_type": "markdown",
   "metadata": {},
   "source": [
    "## [New Aggregation Stages](https://docs.mongodb.org/manual/release-notes/3.2/#new-aggregation-stages)\n",
    "We've added improvements and new operators to our aggregation framework"
   ]
  },
  {
   "cell_type": "code",
   "execution_count": 62,
   "metadata": {
    "collapsed": false
   },
   "outputs": [
    {
     "name": "stdout",
     "output_type": "stream",
     "text": [
      "{u'i': 4, u'_id': ObjectId('565487d44cc75f0d2c6e05d7')}\n",
      "{u'i': 0, u'_id': ObjectId('565487d44cc75f0d2c6e05d3')}\n",
      "{u'i': 2, u'_id': ObjectId('565487d44cc75f0d2c6e05d5')}\n"
     ]
    }
   ],
   "source": [
    "# let's start with simple set of elements\n",
    "sample = mc.notebook.sample\n",
    "ds = []\n",
    "for i in xrange(10):\n",
    "    d = {'i': i}\n",
    "    ds.append(d)\n",
    "\n",
    "sample.insert_many(ds)"
   ]
  },
  {
   "cell_type": "code",
   "execution_count": 84,
   "metadata": {
    "collapsed": false
   },
   "outputs": [
    {
     "name": "stdout",
     "output_type": "stream",
     "text": [
      "{u'i': 0, u'_id': ObjectId('565487d44cc75f0d2c6e05d3')}\n",
      "{u'i': 9, u'_id': ObjectId('565487d44cc75f0d2c6e05dc')}\n",
      "{u'i': 8, u'_id': ObjectId('565487d44cc75f0d2c6e05db')}\n"
     ]
    }
   ],
   "source": [
    "# $sample allows you to randomly select N documents from the input\n",
    "pipeline = [{\"$sample\": {\"size\": 3}}]\n",
    "\n",
    "cur = sample.aggregate( pipeline )\n",
    "for d in cur:\n",
    "    print(d)"
   ]
  },
  {
   "cell_type": "code",
   "execution_count": 104,
   "metadata": {
    "collapsed": false
   },
   "outputs": [
    {
     "name": "stdout",
     "output_type": "stream",
     "text": [
      "{u'i': 0, u'_id': ObjectId('565487d44cc75f0d2c6e05d3'), u'names': []}\n",
      "{u'i': 1, u'_id': ObjectId('565487d44cc75f0d2c6e05d4'), u'names': [{u'_id': 1, u'name': u'Alice'}]}\n",
      "{u'i': 2, u'_id': ObjectId('565487d44cc75f0d2c6e05d5'), u'names': [{u'_id': 2, u'name': u'Eve'}]}\n",
      "{u'i': 3, u'_id': ObjectId('565487d44cc75f0d2c6e05d6'), u'names': [{u'_id': 3, u'name': u'MOURINHO'}]}\n",
      "{u'i': 4, u'_id': ObjectId('565487d44cc75f0d2c6e05d7'), u'names': []}\n",
      "{u'i': 5, u'_id': ObjectId('565487d44cc75f0d2c6e05d8'), u'names': []}\n",
      "{u'i': 6, u'_id': ObjectId('565487d44cc75f0d2c6e05d9'), u'names': []}\n",
      "{u'i': 7, u'_id': ObjectId('565487d44cc75f0d2c6e05da'), u'names': []}\n",
      "{u'i': 8, u'_id': ObjectId('565487d44cc75f0d2c6e05db'), u'names': []}\n",
      "{u'i': 9, u'_id': ObjectId('565487d44cc75f0d2c6e05dc'), u'names': []}\n"
     ]
    }
   ],
   "source": [
    "# $lookup allows one to perform a left outer join between 2 collections \n",
    "\n",
    "names = mc.notebook.names \n",
    "ns = [{\"_id\": 1, \"name\": \"Alice\"}, {\"_id\": 2, \"name\": \"Eve\"}, {\"_id\": 3, \"name\": \"MOURINHO\"}]\n",
    "names.insert_many(ns)\n",
    "\n",
    "pipeline = [{\"$lookup\": { \"from\": \"names\", \"localField\": \"i\", \"foreignField\": \"_id\", \"as\": \"names\" }}]\n",
    "\n",
    "cur = sample.aggregate(pipeline)\n",
    "for d in cur:\n",
    "    print(d)\n",
    "names.drop()  "
   ]
  },
  {
   "cell_type": "code",
   "execution_count": 147,
   "metadata": {
    "collapsed": false
   },
   "outputs": [
    {
     "name": "stdout",
     "output_type": "stream",
     "text": [
      "{u'_id': u'NYC', u'stdDev': 30.422830010677597}\n"
     ]
    }
   ],
   "source": [
    "# new $group operators \n",
    "import random\n",
    "ages = mc.notebook.ages\n",
    "\n",
    "people = []\n",
    "for i in xrange(100):\n",
    "    people.append( {'i': i, \"city\":\"NYC\", 'age': random.randint(0,100)} )\n",
    "\n",
    "ages.insert_many(people)\n",
    "\n",
    "pipeline = [ \n",
    "    {\"$group\": { \"_id\": \"$city\", \"stdDev\": {\"$stdDevSamp\": \"$age\"}  }},\n",
    "    ]\n",
    "cur = ages.aggregate(pipeline)\n",
    "for d in cur:\n",
    "    print(d)\n",
    "ages.drop()"
   ]
  },
  {
   "cell_type": "markdown",
   "metadata": {},
   "source": [
    "## [Case Sensitive Text Search](https://docs.mongodb.org/manual/release-notes/3.2/#case-sensitive-text-search)\n",
    "By default the `text` index is case insensitive but for some cases we might want to perform case sensitive searches "
   ]
  },
  {
   "cell_type": "code",
   "execution_count": 149,
   "metadata": {
    "collapsed": false
   },
   "outputs": [
    {
     "data": {
      "text/plain": [
       "3"
      ]
     },
     "execution_count": 149,
     "metadata": {},
     "output_type": "execute_result"
    }
   ],
   "source": [
    "# load a few documents \n",
    "docs = [\n",
    "    {'name': 'New York', 'desc': 'CITY Capital of The Empire'}, \n",
    "    {'name': 'Paris', 'desc': 'la ville LUMIERE'},\n",
    "    {'name': 'Berlin', 'desc': 'the underground city'}\n",
    "]\n",
    "cities = mc.notebook.cities\n",
    "len(cities.insert_many(docs).inserted_ids)"
   ]
  },
  {
   "cell_type": "code",
   "execution_count": 134,
   "metadata": {
    "collapsed": false
   },
   "outputs": [
    {
     "data": {
      "text/plain": [
       "u'desc_text'"
      ]
     },
     "execution_count": 134,
     "metadata": {},
     "output_type": "execute_result"
    }
   ],
   "source": [
    "# create the text index\n",
    "cities.create_index([( 'desc','text' )])"
   ]
  },
  {
   "cell_type": "code",
   "execution_count": 139,
   "metadata": {
    "collapsed": false
   },
   "outputs": [
    {
     "name": "stdout",
     "output_type": "stream",
     "text": [
      "{u'_id': ObjectId('5654aa844cc75f0d2c6e0e75'), u'name': u'New York', u'desc': u'CITY Capital of The Empire'}\n",
      "{u'_id': ObjectId('5654aa844cc75f0d2c6e0e77'), u'name': u'Berlin', u'desc': u'the underground city'}\n"
     ]
    }
   ],
   "source": [
    "# default case insentive \n",
    "query = {\"$text\": {\"$search\": \"City\"}}\n",
    "for d in cities.find(query): print(d)"
   ]
  },
  {
   "cell_type": "code",
   "execution_count": 141,
   "metadata": {
    "collapsed": false
   },
   "outputs": [
    {
     "name": "stdout",
     "output_type": "stream",
     "text": [
      "{u'_id': ObjectId('5654aa844cc75f0d2c6e0e75'), u'name': u'New York', u'desc': u'CITY Capital of The Empire'}\n"
     ]
    }
   ],
   "source": [
    "# using case sensitive options\n",
    "query = {\"$text\": {\"$search\": \"CITY\", \"$caseSensitive\": True}}\n",
    "for d in cities.find(query): print(d)"
   ]
  }
 ],
 "metadata": {
  "kernelspec": {
   "display_name": "Python 2",
   "language": "python",
   "name": "python2"
  },
  "language_info": {
   "codemirror_mode": {
    "name": "ipython",
    "version": 2
   },
   "file_extension": ".py",
   "mimetype": "text/x-python",
   "name": "python",
   "nbconvert_exporter": "python",
   "pygments_lexer": "ipython2",
   "version": "2.7.10"
  }
 },
 "nbformat": 4,
 "nbformat_minor": 0
}
